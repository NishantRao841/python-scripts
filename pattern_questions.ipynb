{
  "nbformat": 4,
  "nbformat_minor": 0,
  "metadata": {
    "colab": {
      "provenance": []
    },
    "kernelspec": {
      "name": "python3",
      "display_name": "Python 3"
    },
    "language_info": {
      "name": "python"
    }
  },
  "cells": [
    {
      "cell_type": "code",
      "execution_count": 28,
      "metadata": {
        "id": "Ig5Kd1mAy9eQ",
        "colab": {
          "base_uri": "https://localhost:8080/"
        },
        "outputId": "d0f98e09-3d48-4340-a759-0851a22ed2e9"
      },
      "outputs": [
        {
          "output_type": "stream",
          "name": "stdout",
          "text": [
            "****\n",
            "***\n",
            "**\n",
            "*\n"
          ]
        }
      ],
      "source": [
        "for i in range(1,5):\n",
        "\n",
        "   for j in range(1,5-i+1):\n",
        "\n",
        "      print(\"*\",end=\"\")\n",
        "\n",
        "\n",
        "   print( )"
      ]
    },
    {
      "cell_type": "code",
      "source": [
        "a = 10\n",
        "for i in range(1,4):\n",
        "\n",
        "   for j in range(1,i+1):\n",
        "\n",
        "      print(a,end=\" \")\n",
        "      a+=1\n",
        "\n",
        "   print( )"
      ],
      "metadata": {
        "colab": {
          "base_uri": "https://localhost:8080/"
        },
        "id": "RNjYqLSbGDB2",
        "outputId": "1c356441-68d3-486b-cbcc-24e6430ef31b"
      },
      "execution_count": null,
      "outputs": [
        {
          "output_type": "stream",
          "name": "stdout",
          "text": [
            "10 \n",
            "11 12 \n",
            "13 14 15 \n"
          ]
        }
      ]
    },
    {
      "cell_type": "code",
      "source": [
        "for i in range(1,5):\n",
        "   a = 10\n",
        "   for j in range(1,i+1):\n",
        "\n",
        "      print(a, end=\" \")\n",
        "      a+=1\n",
        "\n",
        "   print( )\n"
      ],
      "metadata": {
        "colab": {
          "base_uri": "https://localhost:8080/"
        },
        "id": "fQz4IhpeGncn",
        "outputId": "cc406d16-5ded-4a86-b025-d83019de48f6"
      },
      "execution_count": null,
      "outputs": [
        {
          "output_type": "stream",
          "name": "stdout",
          "text": [
            "10 \n",
            "10 11 \n",
            "10 11 12 \n",
            "10 11 12 13 \n"
          ]
        }
      ]
    },
    {
      "cell_type": "code",
      "source": [
        "for i in range(1,5):\n",
        "   a = 65\n",
        "\n",
        "   for j in range(1,i+1):\n",
        "\n",
        "      print(chr(a),end=\" \")\n",
        "      a+=1\n",
        "\n",
        "   print( )"
      ],
      "metadata": {
        "colab": {
          "base_uri": "https://localhost:8080/"
        },
        "id": "onTHqkfIGxks",
        "outputId": "38ec517b-916b-46f9-e4f6-437c867872a1"
      },
      "execution_count": null,
      "outputs": [
        {
          "output_type": "stream",
          "name": "stdout",
          "text": [
            "A \n",
            "A B \n",
            "A B C \n",
            "A B C D \n"
          ]
        }
      ]
    },
    {
      "cell_type": "code",
      "source": [
        "for i in range(1,5):\n",
        "   a = 68\n",
        "   for j in range(1,i+1):\n",
        "\n",
        "      print(chr(a),end=\" \")\n",
        "      a-=1\n",
        "\n",
        "   print( )"
      ],
      "metadata": {
        "colab": {
          "base_uri": "https://localhost:8080/"
        },
        "id": "m2Uj5dtzK9Cw",
        "outputId": "b8c8bb5c-da50-43e9-c396-ab78f87bd730"
      },
      "execution_count": null,
      "outputs": [
        {
          "output_type": "stream",
          "name": "stdout",
          "text": [
            "D \n",
            "D C \n",
            "D C B \n",
            "D C B A \n"
          ]
        }
      ]
    },
    {
      "cell_type": "code",
      "source": [
        "for i in range(1,5):\n",
        "   a = 68\n",
        "   for j in range(1,5-i+1):\n",
        "\n",
        "      print(chr(a),end=\" \")\n",
        "      a-=1\n",
        "\n",
        "   print( )"
      ],
      "metadata": {
        "colab": {
          "base_uri": "https://localhost:8080/"
        },
        "id": "-3X5OkVfLRtM",
        "outputId": "1b507366-7fc4-400a-f236-6ed212b26848"
      },
      "execution_count": null,
      "outputs": [
        {
          "output_type": "stream",
          "name": "stdout",
          "text": [
            "D C B A \n",
            "D C B \n",
            "D C \n",
            "D \n"
          ]
        }
      ]
    },
    {
      "cell_type": "code",
      "source": [
        "for i in range(1,6):\n",
        "\n",
        "   for j in range(1,i+1):\n",
        "\n",
        "      if(j%2 ==0):\n",
        "        print(2,end=\" \")\n",
        "      else:\n",
        "        print(1,end=\" \")\n",
        "\n",
        "\n",
        "   print()"
      ],
      "metadata": {
        "colab": {
          "base_uri": "https://localhost:8080/"
        },
        "id": "aV4Q2jCsLZGq",
        "outputId": "e675aae0-0a7b-4e10-c449-ae53a293eca9"
      },
      "execution_count": null,
      "outputs": [
        {
          "output_type": "stream",
          "name": "stdout",
          "text": [
            "1 \n",
            "1 2 \n",
            "1 2 1 \n",
            "1 2 1 2 \n",
            "1 2 1 2 1 \n"
          ]
        }
      ]
    },
    {
      "cell_type": "code",
      "source": [
        "a=70\n",
        "for i in range(1,5):\n",
        "\n",
        "   for j in range(1,i+1):\n",
        "\n",
        "      print(chr(a),end=\" \")\n",
        "      a+=2\n",
        "\n",
        "   print( )"
      ],
      "metadata": {
        "colab": {
          "base_uri": "https://localhost:8080/"
        },
        "id": "6U_XRDskL7IH",
        "outputId": "04baab11-a8cf-4e1e-9287-f6c2b16ff51c"
      },
      "execution_count": null,
      "outputs": [
        {
          "output_type": "stream",
          "name": "stdout",
          "text": [
            "F \n",
            "H J \n",
            "L N P \n",
            "R T V X \n"
          ]
        }
      ]
    },
    {
      "cell_type": "code",
      "source": [
        "for i in range(1,6):\n",
        "  for j in range(1,i+1):\n",
        "    print(\"*\",end=\"\")\n",
        "  print( )"
      ],
      "metadata": {
        "colab": {
          "base_uri": "https://localhost:8080/"
        },
        "id": "816tdFmyMXEi",
        "outputId": "8d3cf952-a316-4c69-d03b-6624d3077192"
      },
      "execution_count": 31,
      "outputs": [
        {
          "output_type": "stream",
          "name": "stdout",
          "text": [
            "*\n",
            "**\n",
            "***\n",
            "****\n",
            "*****\n"
          ]
        }
      ]
    },
    {
      "cell_type": "code",
      "source": [
        "for i in range(1,5):\n",
        "  a=1\n",
        "  for j in range(1,i+1):\n",
        "    print(a,end=\"\")\n",
        "    a+=1\n",
        "  print( )"
      ],
      "metadata": {
        "colab": {
          "base_uri": "https://localhost:8080/"
        },
        "id": "FkRqiV8Zj0Yu",
        "outputId": "a863a316-bdfd-4841-c907-4c7ad5148606"
      },
      "execution_count": 32,
      "outputs": [
        {
          "output_type": "stream",
          "name": "stdout",
          "text": [
            "1\n",
            "12\n",
            "123\n",
            "1234\n"
          ]
        }
      ]
    },
    {
      "cell_type": "code",
      "source": [
        "for i in range(1,5):\n",
        "  for j in range(1,i+1):\n",
        "    print(i,end=\"\")\n",
        "  print( )"
      ],
      "metadata": {
        "colab": {
          "base_uri": "https://localhost:8080/"
        },
        "id": "F_KCsjcvkbYy",
        "outputId": "4db6558f-55fa-4af9-bab6-6a6d4b7ff9b2"
      },
      "execution_count": 33,
      "outputs": [
        {
          "output_type": "stream",
          "name": "stdout",
          "text": [
            "1\n",
            "22\n",
            "333\n",
            "4444\n"
          ]
        }
      ]
    },
    {
      "cell_type": "code",
      "source": [
        "for i in range(1,5):\n",
        "\n",
        "  for j in range(1,5-i+1):\n",
        "\n",
        "    print(\"*\",end=\"\")\n",
        "\n",
        "  print( )"
      ],
      "metadata": {
        "colab": {
          "base_uri": "https://localhost:8080/"
        },
        "id": "6TVXSN98laOc",
        "outputId": "88dccc28-0e2c-490a-e2f1-020cd7d599dc"
      },
      "execution_count": 10,
      "outputs": [
        {
          "output_type": "stream",
          "name": "stdout",
          "text": [
            "****\n",
            "***\n",
            "**\n",
            "*\n"
          ]
        }
      ]
    },
    {
      "cell_type": "code",
      "source": [
        "for i in range(1,5):\n",
        "  a=65\n",
        "  for j in range(1,5-i+1):\n",
        "\n",
        "    print(chr(a),end=\"\")\n",
        "    a+=1\n",
        "  print( )"
      ],
      "metadata": {
        "colab": {
          "base_uri": "https://localhost:8080/"
        },
        "id": "jLPl5wFkMwGa",
        "outputId": "2dc70de7-f22c-4dbf-8347-e36b37c84558"
      },
      "execution_count": 13,
      "outputs": [
        {
          "output_type": "stream",
          "name": "stdout",
          "text": [
            "ABCD\n",
            "ABC\n",
            "AB\n",
            "A\n"
          ]
        }
      ]
    },
    {
      "cell_type": "code",
      "source": [
        "for i in range(1,5):\n",
        "  a=4\n",
        "  for j in range(1,5-i+1):\n",
        "\n",
        "    print(a,end=\"\")\n",
        "    a-=1\n",
        "  print( )"
      ],
      "metadata": {
        "colab": {
          "base_uri": "https://localhost:8080/"
        },
        "id": "jke9vgdcNwsY",
        "outputId": "30ecb177-0498-48db-af9e-3d07c2c05130"
      },
      "execution_count": 15,
      "outputs": [
        {
          "output_type": "stream",
          "name": "stdout",
          "text": [
            "4321\n",
            "432\n",
            "43\n",
            "4\n"
          ]
        }
      ]
    },
    {
      "cell_type": "code",
      "source": [
        "for i in range(1,5):\n",
        "  a=65\n",
        "  for j in range(1,i+1):\n",
        "\n",
        "    print(chr(a),end=\"\")\n",
        "    a+=1\n",
        "  print( )"
      ],
      "metadata": {
        "colab": {
          "base_uri": "https://localhost:8080/"
        },
        "id": "erabXImvN_FY",
        "outputId": "54a6c458-4203-4bf7-b9cb-f566034dd164"
      },
      "execution_count": 16,
      "outputs": [
        {
          "output_type": "stream",
          "name": "stdout",
          "text": [
            "A\n",
            "AB\n",
            "ABC\n",
            "ABCD\n"
          ]
        }
      ]
    },
    {
      "cell_type": "code",
      "source": [
        "for i in range(1,6):\n",
        "  a=1\n",
        "  for j in range(1,6-i+1):\n",
        "\n",
        "    print(a,end=\"\")\n",
        "    a+=1\n",
        "  print( )"
      ],
      "metadata": {
        "colab": {
          "base_uri": "https://localhost:8080/"
        },
        "id": "yvFwPMyfOPRJ",
        "outputId": "c7cdff57-4157-48d2-fbc7-d4ebae0ae03f"
      },
      "execution_count": 17,
      "outputs": [
        {
          "output_type": "stream",
          "name": "stdout",
          "text": [
            "12345\n",
            "1234\n",
            "123\n",
            "12\n",
            "1\n"
          ]
        }
      ]
    },
    {
      "cell_type": "code",
      "source": [
        "for i in range(1,7):\n",
        "  a=70\n",
        "  for j in range(1,7-i+1):\n",
        "\n",
        "    print(chr(a),end=\"\")\n",
        "    a-=1\n",
        "  print( )"
      ],
      "metadata": {
        "colab": {
          "base_uri": "https://localhost:8080/"
        },
        "id": "ooBn3USCOip4",
        "outputId": "c7913e62-d5b9-47cf-a652-800c0361825c"
      },
      "execution_count": 19,
      "outputs": [
        {
          "output_type": "stream",
          "name": "stdout",
          "text": [
            "FEDCBA\n",
            "FEDCB\n",
            "FEDC\n",
            "FED\n",
            "FE\n",
            "F\n"
          ]
        }
      ]
    },
    {
      "cell_type": "code",
      "source": [
        "for i in range(1,5):\n",
        "  a=1\n",
        "  for j in range(1,i+1):\n",
        "\n",
        "    print(a,end=\"\")\n",
        "    a+=1\n",
        "  print( )"
      ],
      "metadata": {
        "colab": {
          "base_uri": "https://localhost:8080/"
        },
        "id": "taz06Z9ePJop",
        "outputId": "3fa276dd-83ba-4be9-c109-fea58ca026a7"
      },
      "execution_count": 20,
      "outputs": [
        {
          "output_type": "stream",
          "name": "stdout",
          "text": [
            "1\n",
            "12\n",
            "123\n",
            "1234\n"
          ]
        }
      ]
    },
    {
      "cell_type": "code",
      "source": [
        "a=1\n",
        "for i in range(1,5):\n",
        "\n",
        "  for j in range(1,i+1):\n",
        "\n",
        "    print(a,end=\"\")\n",
        "    a+=1\n",
        "  print( )"
      ],
      "metadata": {
        "colab": {
          "base_uri": "https://localhost:8080/"
        },
        "id": "4f51EmDiPlmV",
        "outputId": "048bdf55-ae89-4ce8-c04e-4075328150e5"
      },
      "execution_count": 21,
      "outputs": [
        {
          "output_type": "stream",
          "name": "stdout",
          "text": [
            "1\n",
            "23\n",
            "456\n",
            "78910\n"
          ]
        }
      ]
    },
    {
      "cell_type": "code",
      "source": [
        "a=10\n",
        "for i in range(1,5):\n",
        "\n",
        "  for j in range(1,i+1):\n",
        "\n",
        "    print(a,end=\" \")\n",
        "    a-=1\n",
        "  print( )"
      ],
      "metadata": {
        "colab": {
          "base_uri": "https://localhost:8080/"
        },
        "id": "4EnUcAIWQKIa",
        "outputId": "5e9b88d4-f3c9-4955-d9f0-ceafea4dce5f"
      },
      "execution_count": 23,
      "outputs": [
        {
          "output_type": "stream",
          "name": "stdout",
          "text": [
            "10 \n",
            "9 8 \n",
            "7 6 5 \n",
            "4 3 2 1 \n"
          ]
        }
      ]
    },
    {
      "cell_type": "code",
      "source": [
        "a=65\n",
        "for i in range(1,4):\n",
        "\n",
        "  for j in range(1,i+1):\n",
        "\n",
        "    print(chr(a),end=\" \")\n",
        "    a+=1\n",
        "  print( )"
      ],
      "metadata": {
        "colab": {
          "base_uri": "https://localhost:8080/"
        },
        "id": "q1weIdSLQTMj",
        "outputId": "b3decc5e-feb1-47eb-d501-1cba2ed7ff71"
      },
      "execution_count": 28,
      "outputs": [
        {
          "output_type": "stream",
          "name": "stdout",
          "text": [
            "A \n",
            "B C \n",
            "D E F \n"
          ]
        }
      ]
    },
    {
      "cell_type": "code",
      "source": [
        "a=90\n",
        "for i in range(1,4):\n",
        "\n",
        "  for j in range(1,i+1):\n",
        "\n",
        "    print(chr(a),end=\" \")\n",
        "    a-=2\n",
        "  print( )"
      ],
      "metadata": {
        "colab": {
          "base_uri": "https://localhost:8080/"
        },
        "id": "XY-dPYrqRHAO",
        "outputId": "b41269f7-edca-482f-f7f2-a7117e7a1ae2"
      },
      "execution_count": 30,
      "outputs": [
        {
          "output_type": "stream",
          "name": "stdout",
          "text": [
            "Z \n",
            "X V \n",
            "T R P \n"
          ]
        }
      ]
    },
    {
      "cell_type": "code",
      "source": [],
      "metadata": {
        "id": "tfER9Ld5Rk5A"
      },
      "execution_count": null,
      "outputs": []
    }
  ]
}