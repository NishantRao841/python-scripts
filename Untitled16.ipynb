{
  "nbformat": 4,
  "nbformat_minor": 0,
  "metadata": {
    "colab": {
      "provenance": []
    },
    "kernelspec": {
      "name": "python3",
      "display_name": "Python 3"
    },
    "language_info": {
      "name": "python"
    }
  },
  "cells": [
    {
      "cell_type": "code",
      "execution_count": 13,
      "metadata": {
        "id": "Ig5Kd1mAy9eQ",
        "colab": {
          "base_uri": "https://localhost:8080/"
        },
        "outputId": "d43760e4-8b6f-407b-b6fa-84edd027a18a"
      },
      "outputs": [
        {
          "output_type": "stream",
          "name": "stdout",
          "text": [
            "****\n",
            "***\n",
            "**\n",
            "*\n"
          ]
        }
      ],
      "source": [
        "for i in range(1,5):\n",
        "\n",
        "   for j in range(1,5-i+1):\n",
        "\n",
        "      print(\"*\",end=\"\")\n",
        "\n",
        "\n",
        "   print( )"
      ]
    },
    {
      "cell_type": "code",
      "source": [
        "a = 10\n",
        "for i in range(1,4):\n",
        "\n",
        "   for j in range(1,i+1):\n",
        "\n",
        "      print(a,end=\" \")\n",
        "      a+=1\n",
        "\n",
        "   print( )"
      ],
      "metadata": {
        "colab": {
          "base_uri": "https://localhost:8080/"
        },
        "id": "RNjYqLSbGDB2",
        "outputId": "1c356441-68d3-486b-cbcc-24e6430ef31b"
      },
      "execution_count": 3,
      "outputs": [
        {
          "output_type": "stream",
          "name": "stdout",
          "text": [
            "10 \n",
            "11 12 \n",
            "13 14 15 \n"
          ]
        }
      ]
    },
    {
      "cell_type": "code",
      "source": [
        "for i in range(1,5):\n",
        "   a = 10\n",
        "   for j in range(1,i+1):\n",
        "\n",
        "      print(a, end=\" \")\n",
        "      a+=1\n",
        "\n",
        "   print( )\n"
      ],
      "metadata": {
        "colab": {
          "base_uri": "https://localhost:8080/"
        },
        "id": "fQz4IhpeGncn",
        "outputId": "cc406d16-5ded-4a86-b025-d83019de48f6"
      },
      "execution_count": 4,
      "outputs": [
        {
          "output_type": "stream",
          "name": "stdout",
          "text": [
            "10 \n",
            "10 11 \n",
            "10 11 12 \n",
            "10 11 12 13 \n"
          ]
        }
      ]
    },
    {
      "cell_type": "code",
      "source": [
        "for i in range(1,5):\n",
        "   a = 65\n",
        "\n",
        "   for j in range(1,i+1):\n",
        "\n",
        "      print(chr(a),end=\" \")\n",
        "      a+=1\n",
        "\n",
        "   print( )"
      ],
      "metadata": {
        "colab": {
          "base_uri": "https://localhost:8080/"
        },
        "id": "onTHqkfIGxks",
        "outputId": "38ec517b-916b-46f9-e4f6-437c867872a1"
      },
      "execution_count": 7,
      "outputs": [
        {
          "output_type": "stream",
          "name": "stdout",
          "text": [
            "A \n",
            "A B \n",
            "A B C \n",
            "A B C D \n"
          ]
        }
      ]
    },
    {
      "cell_type": "code",
      "source": [
        "for i in range(1,5):\n",
        "   a = 68\n",
        "   for j in range(1,i+1):\n",
        "\n",
        "      print(chr(a),end=\" \")\n",
        "      a-=1\n",
        "\n",
        "   print( )"
      ],
      "metadata": {
        "colab": {
          "base_uri": "https://localhost:8080/"
        },
        "id": "m2Uj5dtzK9Cw",
        "outputId": "b8c8bb5c-da50-43e9-c396-ab78f87bd730"
      },
      "execution_count": 8,
      "outputs": [
        {
          "output_type": "stream",
          "name": "stdout",
          "text": [
            "D \n",
            "D C \n",
            "D C B \n",
            "D C B A \n"
          ]
        }
      ]
    },
    {
      "cell_type": "code",
      "source": [
        "for i in range(1,5):\n",
        "   a = 68\n",
        "   for j in range(1,5-i+1):\n",
        "\n",
        "      print(chr(a),end=\" \")\n",
        "      a-=1\n",
        "\n",
        "   print( )"
      ],
      "metadata": {
        "colab": {
          "base_uri": "https://localhost:8080/"
        },
        "id": "-3X5OkVfLRtM",
        "outputId": "1b507366-7fc4-400a-f236-6ed212b26848"
      },
      "execution_count": 9,
      "outputs": [
        {
          "output_type": "stream",
          "name": "stdout",
          "text": [
            "D C B A \n",
            "D C B \n",
            "D C \n",
            "D \n"
          ]
        }
      ]
    },
    {
      "cell_type": "code",
      "source": [
        "for i in range(1,6):\n",
        "\n",
        "   for j in range(1,i+1):\n",
        "\n",
        "      if(j%2 ==0):\n",
        "        print(2,end=\" \")\n",
        "      else:\n",
        "        print(1,end=\" \")\n",
        "\n",
        "\n",
        "   print()"
      ],
      "metadata": {
        "colab": {
          "base_uri": "https://localhost:8080/"
        },
        "id": "aV4Q2jCsLZGq",
        "outputId": "e675aae0-0a7b-4e10-c449-ae53a293eca9"
      },
      "execution_count": 10,
      "outputs": [
        {
          "output_type": "stream",
          "name": "stdout",
          "text": [
            "1 \n",
            "1 2 \n",
            "1 2 1 \n",
            "1 2 1 2 \n",
            "1 2 1 2 1 \n"
          ]
        }
      ]
    },
    {
      "cell_type": "code",
      "source": [
        "a=70\n",
        "for i in range(1,5):\n",
        "\n",
        "   for j in range(1,i+1):\n",
        "\n",
        "      print(chr(a),end=\" \")\n",
        "      a+=2\n",
        "\n",
        "   print( )"
      ],
      "metadata": {
        "colab": {
          "base_uri": "https://localhost:8080/"
        },
        "id": "6U_XRDskL7IH",
        "outputId": "04baab11-a8cf-4e1e-9287-f6c2b16ff51c"
      },
      "execution_count": 11,
      "outputs": [
        {
          "output_type": "stream",
          "name": "stdout",
          "text": [
            "F \n",
            "H J \n",
            "L N P \n",
            "R T V X \n"
          ]
        }
      ]
    },
    {
      "cell_type": "code",
      "source": [
        "for j in range(1,5):\n",
        "\n",
        "#for j in range(1,5):\n",
        "\n",
        "   for i in range(5,i,-1):\n",
        "\n",
        "      print(\"*\", end=\" \")\n",
        "\n",
        "\n",
        "\n",
        "   print( )"
      ],
      "metadata": {
        "colab": {
          "base_uri": "https://localhost:8080/"
        },
        "id": "816tdFmyMXEi",
        "outputId": "25dbed76-5ef7-431d-fbdb-ccd3abc52087"
      },
      "execution_count": 27,
      "outputs": [
        {
          "output_type": "stream",
          "name": "stdout",
          "text": [
            "\n",
            "\n",
            "\n",
            "\n"
          ]
        }
      ]
    }
  ]
}