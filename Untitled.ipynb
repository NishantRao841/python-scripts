{
  "nbformat": 4,
  "nbformat_minor": 0,
  "metadata": {
    "colab": {
      "provenance": []
    },
    "kernelspec": {
      "name": "python3",
      "display_name": "Python 3"
    },
    "language_info": {
      "name": "python"
    }
  },
  "cells": [
    {
      "cell_type": "code",
      "execution_count": 1,
      "metadata": {
        "colab": {
          "base_uri": "https://localhost:8080/"
        },
        "id": "q8Q6J1o3jhbZ",
        "outputId": "b5dbba86-cf52-4947-9235-db05687aab9e"
      },
      "outputs": [
        {
          "output_type": "stream",
          "name": "stdout",
          "text": [
            "****\n",
            " ****\n",
            "  ****\n",
            "   ****\n"
          ]
        }
      ],
      "source": [
        "for i in range(1,5):\n",
        "  for j in range(1,i):\n",
        "    print(\" \",end=\"\")\n",
        "  for j in range(1,5):\n",
        "    print(\"*\",end=\"\")\n",
        "  print()"
      ]
    },
    {
      "cell_type": "code",
      "source": [
        "for i in range(1,6):\n",
        "  a = 65\n",
        "  for j in range(1,i+1):\n",
        "    print(chr(a),end = \"\")\n",
        "    a+=1\n",
        "  print()"
      ],
      "metadata": {
        "colab": {
          "base_uri": "https://localhost:8080/"
        },
        "id": "QYocC0mPkxR7",
        "outputId": "07def6b6-cd70-4bc0-968d-1dd6adc683f9"
      },
      "execution_count": 5,
      "outputs": [
        {
          "output_type": "stream",
          "name": "stdout",
          "text": [
            "A\n",
            "AB\n",
            "ABC\n",
            "ABCD\n",
            "ABCDE\n"
          ]
        }
      ]
    },
    {
      "cell_type": "code",
      "source": [
        "a =65\n",
        "for i in range(1,6):\n",
        "\n",
        "  for j in range(1,i+1):\n",
        "    print(chr(a),end = \"\")\n",
        "  a+=1\n",
        "  print()"
      ],
      "metadata": {
        "colab": {
          "base_uri": "https://localhost:8080/"
        },
        "id": "5_uOhiLkk4kU",
        "outputId": "40b75f22-ab58-44df-9487-895a3482eb6b"
      },
      "execution_count": 4,
      "outputs": [
        {
          "output_type": "stream",
          "name": "stdout",
          "text": [
            "A\n",
            "BB\n",
            "CCC\n",
            "DDDD\n",
            "EEEEE\n"
          ]
        }
      ]
    },
    {
      "cell_type": "code",
      "source": [
        "for i in range(1,6):\n",
        "  for j in range(1,6-i):\n",
        "    print(\" \",end=\"\")\n",
        "\n",
        "  for j in range(1,i+1):\n",
        "    print(\"*\",end = \"\")\n",
        "  print()\n"
      ],
      "metadata": {
        "colab": {
          "base_uri": "https://localhost:8080/"
        },
        "id": "3pkH7t30k_3Q",
        "outputId": "29041f42-76e8-4d09-dd60-845bfb89d816"
      },
      "execution_count": 9,
      "outputs": [
        {
          "output_type": "stream",
          "name": "stdout",
          "text": [
            "    *\n",
            "   **\n",
            "  ***\n",
            " ****\n",
            "*****\n"
          ]
        }
      ]
    },
    {
      "cell_type": "code",
      "source": [
        "for i in range(1,6):\n",
        "  a=1\n",
        "  for j in range(1,6-i):\n",
        "    print(\" \",end=\"\")\n",
        "\n",
        "  for j in range(1,i+1):\n",
        "    print(a, end=\"\")\n",
        "    a+=1\n",
        "  print(  )\n"
      ],
      "metadata": {
        "colab": {
          "base_uri": "https://localhost:8080/"
        },
        "id": "4eYi-dJLlXR7",
        "outputId": "21d5aeca-2d23-4586-b0a1-ba0f3670c19d"
      },
      "execution_count": 10,
      "outputs": [
        {
          "output_type": "stream",
          "name": "stdout",
          "text": [
            "    1\n",
            "   12\n",
            "  123\n",
            " 1234\n",
            "12345\n"
          ]
        }
      ]
    },
    {
      "cell_type": "code",
      "source": [
        "for i in range(1,6):\n",
        "  a=1\n",
        "  for j in range(1,i):\n",
        "    print(\" \",end=\"\")\n",
        "\n",
        "  for j in range(1,7-i):\n",
        "    print(a,end=\"\")\n",
        "    a+=1\n",
        "  print()\n"
      ],
      "metadata": {
        "colab": {
          "base_uri": "https://localhost:8080/"
        },
        "id": "5l-SPS0elmXj",
        "outputId": "f4d39715-b51d-4718-980a-42e55071a71d"
      },
      "execution_count": 11,
      "outputs": [
        {
          "output_type": "stream",
          "name": "stdout",
          "text": [
            "12345\n",
            " 1234\n",
            "  123\n",
            "   12\n",
            "    1\n"
          ]
        }
      ]
    },
    {
      "cell_type": "code",
      "source": [
        "for i in range(1,6):\n",
        "  a=65\n",
        "  for j in range(1,i):\n",
        "    print(\" \",end=\"\")\n",
        "\n",
        "  for j in range(1,7-i):\n",
        "    print(chr(a),end=\"\")\n",
        "    a+=1\n",
        "  print()\n"
      ],
      "metadata": {
        "colab": {
          "base_uri": "https://localhost:8080/"
        },
        "id": "szhDXw7Dlt--",
        "outputId": "6e9b6f4e-dfbb-466d-e88b-3209364018cf"
      },
      "execution_count": 12,
      "outputs": [
        {
          "output_type": "stream",
          "name": "stdout",
          "text": [
            "ABCDE\n",
            " ABCD\n",
            "  ABC\n",
            "   AB\n",
            "    A\n"
          ]
        }
      ]
    },
    {
      "cell_type": "code",
      "source": [
        "for i in range(1,6):\n",
        "  for j in range(1,6-i):\n",
        "    print(\" \",end=\"\")\n",
        "  for j in range(1,6):\n",
        "    print(\"*\",end=\"\")\n",
        "  print()"
      ],
      "metadata": {
        "colab": {
          "base_uri": "https://localhost:8080/"
        },
        "id": "n6pgXMfllyVj",
        "outputId": "502b9689-97cd-4036-d3f4-dffc4e8e47e3"
      },
      "execution_count": 13,
      "outputs": [
        {
          "output_type": "stream",
          "name": "stdout",
          "text": [
            "    *****\n",
            "   *****\n",
            "  *****\n",
            " *****\n",
            "*****\n"
          ]
        }
      ]
    },
    {
      "cell_type": "code",
      "source": [
        "for i in range(1,6):\n",
        "  a=1\n",
        "  for j in range(1,6-i):\n",
        "    print(\" \",end=\"\")\n",
        "  for j in range(1,6):\n",
        "    print(a,end=\"\")\n",
        "    a+=1\n",
        "  print()"
      ],
      "metadata": {
        "colab": {
          "base_uri": "https://localhost:8080/"
        },
        "id": "TTagru6kl93S",
        "outputId": "df51d5c7-1d31-4e7d-c4f1-386ad65c0914"
      },
      "execution_count": 14,
      "outputs": [
        {
          "output_type": "stream",
          "name": "stdout",
          "text": [
            "    12345\n",
            "   12345\n",
            "  12345\n",
            " 12345\n",
            "12345\n"
          ]
        }
      ]
    },
    {
      "cell_type": "code",
      "source": [
        "for i in range(1,6):\n",
        "  a=65\n",
        "  for j in range(1,6-i):\n",
        "    print(\" \",end=\"\")\n",
        "  for j in range(1,6):\n",
        "    print(chr(a),end=\"\")\n",
        "    a+=1\n",
        "  print()"
      ],
      "metadata": {
        "colab": {
          "base_uri": "https://localhost:8080/"
        },
        "id": "DbDlOevQmFco",
        "outputId": "eef6ecfe-af30-4ce0-d20c-4b3c8c9e8d17"
      },
      "execution_count": 15,
      "outputs": [
        {
          "output_type": "stream",
          "name": "stdout",
          "text": [
            "    ABCDE\n",
            "   ABCDE\n",
            "  ABCDE\n",
            " ABCDE\n",
            "ABCDE\n"
          ]
        }
      ]
    },
    {
      "cell_type": "code",
      "source": [
        "for i in range(1,5):\n",
        "  for j in range(1,5-i):\n",
        "    print(\" \",end=\"\")\n",
        "  for j in range(1,i+i):\n",
        "    print(\"*\",end=\"\")\n",
        "  print()"
      ],
      "metadata": {
        "colab": {
          "base_uri": "https://localhost:8080/"
        },
        "id": "i44bo8osmo2i",
        "outputId": "3ccebe9b-e02d-4881-b71c-156c3ad82317"
      },
      "execution_count": 17,
      "outputs": [
        {
          "output_type": "stream",
          "name": "stdout",
          "text": [
            "   *\n",
            "  ***\n",
            " *****\n",
            "*******\n"
          ]
        }
      ]
    },
    {
      "cell_type": "code",
      "source": [
        "for i in range(1,5):\n",
        "  for j in range(1,i):\n",
        "    print(\" \",end=\"\")\n",
        "  for j in range(1,10-i-i):\n",
        "    print(\"*\",end=\"\")\n",
        "  print()"
      ],
      "metadata": {
        "colab": {
          "base_uri": "https://localhost:8080/"
        },
        "id": "CGDlqX9-moqE",
        "outputId": "d821f86a-534d-4f7f-e837-5bd72f12c55d"
      },
      "execution_count": 18,
      "outputs": [
        {
          "output_type": "stream",
          "name": "stdout",
          "text": [
            "*******\n",
            " *****\n",
            "  ***\n",
            "   *\n"
          ]
        }
      ]
    }
  ]
}