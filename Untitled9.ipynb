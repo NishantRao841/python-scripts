{
  "nbformat": 4,
  "nbformat_minor": 0,
  "metadata": {
    "colab": {
      "provenance": [],
      "gpuType": "T4",
      "authorship_tag": "ABX9TyOndNq1seo3Xf2bQiNF1OdQ",
      "include_colab_link": true
    },
    "kernelspec": {
      "name": "python3",
      "display_name": "Python 3"
    },
    "language_info": {
      "name": "python"
    },
    "accelerator": "GPU"
  },
  "cells": [
    {
      "cell_type": "markdown",
      "metadata": {
        "id": "view-in-github",
        "colab_type": "text"
      },
      "source": [
        "<a href=\"https://colab.research.google.com/github/NishantRao841/python-scripts/blob/main/Untitled9.ipynb\" target=\"_parent\"><img src=\"https://colab.research.google.com/assets/colab-badge.svg\" alt=\"Open In Colab\"/></a>"
      ]
    },
    {
      "cell_type": "code",
      "execution_count": null,
      "metadata": {
        "colab": {
          "base_uri": "https://localhost:8080/"
        },
        "id": "9IYWR8elL8Gz",
        "outputId": "47b6fcb0-c7a5-43e5-a93b-fa61fc2a59c9"
      },
      "outputs": [
        {
          "output_type": "stream",
          "name": "stdout",
          "text": [
            "0 n\n",
            "1 i\n",
            "2 s\n",
            "3 h\n",
            "4 a\n",
            "5 n\n",
            "6 t\n"
          ]
        }
      ],
      "source": [
        "data ='nishant'\n",
        "i=0\n",
        "while(i<7):\n",
        "  print(i,data[i])\n",
        "  i+=1"
      ]
    },
    {
      "cell_type": "code",
      "source": [
        "data=\"nishant\"\n",
        "\n",
        "for i in range(0,7):\n",
        "   print(i,data[i])\n",
        "\n"
      ],
      "metadata": {
        "colab": {
          "base_uri": "https://localhost:8080/"
        },
        "id": "SjiMP689Ns4E",
        "outputId": "f3621951-5e4b-49fe-da92-bf196fbb00ba"
      },
      "execution_count": null,
      "outputs": [
        {
          "output_type": "stream",
          "name": "stdout",
          "text": [
            "0 n\n",
            "1 i\n",
            "2 s\n",
            "3 h\n",
            "4 a\n",
            "5 n\n",
            "6 t\n"
          ]
        }
      ]
    },
    {
      "cell_type": "code",
      "source": [
        "# two pointer approach\n",
        "data = 'nishant'\n",
        "i=0\n",
        "j=6\n",
        "while(i<7):\n",
        "  print(i,data[i],data[j])\n",
        "  i+=1\n",
        "  j-=1"
      ],
      "metadata": {
        "colab": {
          "base_uri": "https://localhost:8080/"
        },
        "id": "rvjr6rrcPCXF",
        "outputId": "fbe19568-5e22-4b68-bb0f-67d55cbc29fd"
      },
      "execution_count": null,
      "outputs": [
        {
          "output_type": "stream",
          "name": "stdout",
          "text": [
            "0 n t\n",
            "1 i n\n",
            "2 s a\n",
            "3 h h\n",
            "4 a s\n",
            "5 n i\n",
            "6 t n\n"
          ]
        }
      ]
    },
    {
      "cell_type": "code",
      "source": [
        "data =\"tussat\"\n",
        "i=0\n",
        "j=5\n",
        "while(i<6):\n",
        "  if(data[i]==data[j]):\n",
        "\n",
        "    print(i,j)\n",
        "  i+=1\n",
        "  j-=1\n"
      ],
      "metadata": {
        "colab": {
          "base_uri": "https://localhost:8080/"
        },
        "id": "lZd2p5HUQGhF",
        "outputId": "7d2d422d-7216-4610-9358-331255027fea"
      },
      "execution_count": null,
      "outputs": [
        {
          "output_type": "stream",
          "name": "stdout",
          "text": [
            "0 5\n",
            "2 3\n",
            "3 2\n",
            "5 0\n"
          ]
        }
      ]
    },
    {
      "cell_type": "code",
      "source": [
        "data='tussut'\n",
        "a=0\n",
        "i=0\n",
        "j=5\n",
        "while(i<j):\n",
        "  if(data[i]!=data[j]):\n",
        "    a=1\n",
        "    break\n",
        "  i+=1\n",
        "  j-=1\n",
        "if(a==1):\n",
        "  print('not a palindrome')\n",
        "else:\n",
        "  print(' palondrome')\n"
      ],
      "metadata": {
        "colab": {
          "base_uri": "https://localhost:8080/"
        },
        "id": "tFX7m0BJSXIj",
        "outputId": "a7321fc2-4672-45c5-d685-a5bb8599fbb7"
      },
      "execution_count": 8,
      "outputs": [
        {
          "output_type": "stream",
          "name": "stdout",
          "text": [
            " palondrome\n"
          ]
        }
      ]
    },
    {
      "cell_type": "code",
      "source": [
        "data='regexsoftware'\n",
        "i=0\n",
        "while(i<len(data)//2):\n",
        "  print(i,data[i])\n",
        "  i+=1"
      ],
      "metadata": {
        "colab": {
          "base_uri": "https://localhost:8080/"
        },
        "id": "27tuHWSR-hgI",
        "outputId": "1accbdab-ff68-49a2-aa38-47911d7c81e4"
      },
      "execution_count": 15,
      "outputs": [
        {
          "output_type": "stream",
          "name": "stdout",
          "text": [
            "0 r\n",
            "1 e\n",
            "2 g\n",
            "3 e\n",
            "4 x\n",
            "5 s\n"
          ]
        }
      ]
    },
    {
      "cell_type": "code",
      "source": [
        "data='regexsregex'\n",
        "i=0\n",
        "j=len(data)//2+1\n",
        "while(i<len(data)//2):\n",
        "  print(data[i],data[j])\n",
        "  i+=1\n",
        "  j+=1"
      ],
      "metadata": {
        "colab": {
          "base_uri": "https://localhost:8080/"
        },
        "id": "4iHCkK2tZQ9N",
        "outputId": "8a1ba10b-e7b0-4380-a68d-d4782fd40d0e"
      },
      "execution_count": null,
      "outputs": [
        {
          "output_type": "stream",
          "name": "stdout",
          "text": [
            "r r\n",
            "e e\n",
            "g g\n",
            "e e\n",
            "x x\n"
          ]
        }
      ]
    },
    {
      "cell_type": "code",
      "source": [
        "data='regexsregex'\n",
        "i=0\n",
        "a=0\n",
        "j=len(data)//2+1\n",
        "while(i<len(data)//2):\n",
        "  if(data[i]!=data[j]):\n",
        "    a=1\n",
        "    break\n",
        "  i+=1\n",
        "  j+=1\n",
        "if(a==1):\n",
        "  print('not a symatric')\n",
        "else:\n",
        "  print(' symatric')"
      ],
      "metadata": {
        "colab": {
          "base_uri": "https://localhost:8080/"
        },
        "id": "X2NgXBsMAeGC",
        "outputId": "9e606c9b-5489-4074-f8f5-b2045516c55a"
      },
      "execution_count": 18,
      "outputs": [
        {
          "output_type": "stream",
          "name": "stdout",
          "text": [
            " symatric\n"
          ]
        }
      ]
    }
  ]
}